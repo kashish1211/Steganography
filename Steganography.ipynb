{
  "nbformat": 4,
  "nbformat_minor": 0,
  "metadata": {
    "colab": {
      "name": "Steganography.ipynb",
      "provenance": []
    },
    "kernelspec": {
      "name": "python3",
      "display_name": "Python 3"
    },
    "language_info": {
      "name": "python"
    }
  },
  "cells": [
    {
      "cell_type": "code",
      "execution_count": null,
      "metadata": {
        "id": "CBaZ5abZ0Vev"
      },
      "outputs": [],
      "source": [
        "import cv2\n",
        "import numpy as np\n",
        "import types\n",
        "from google.colab.patches import cv2_imshow #Google colab crashes if you try to display \n",
        "#image using cv2.imshow() thus use this import"
      ]
    },
    {
      "cell_type": "code",
      "source": [
        "def messageToBinary(message):\n",
        "  if type(message) == str:\n",
        "    return ''.join([ format(ord(i), \"08b\") for i in message ])\n",
        "  elif type(message) == bytes or type(message) == np.ndarray:\n",
        "    return [ format(i, \"08b\") for i in message ]\n",
        "  elif type(message) == int or type(message) == np.uint8:\n",
        "    return format(message, \"08b\")\n",
        "  else:\n",
        "    raise TypeError(\"Input type not supported\")"
      ],
      "metadata": {
        "id": "Mhmz-p4S0f97"
      },
      "execution_count": 6,
      "outputs": []
    },
    {
      "cell_type": "code",
      "source": [
        "def hideData(image, secret_message):\n",
        "\n",
        "  # calculate the maximum bytes to encode\n",
        "  n_bytes = image.shape[0] * image.shape[1] * 3 // 8\n",
        "  print(\"Maximum bytes to encode:\", n_bytes)\n",
        "\n",
        "  #Check if the number of bytes to encode is less than the maximum bytes in the image\n",
        "  if len(secret_message) > n_bytes:\n",
        "      raise ValueError(\"Error encountered insufficient bytes, need bigger image or less data !!\")\n",
        "  \n",
        "  secret_message += \"#####\" # you can use any string as the delimeter\n",
        "\n",
        "  data_index = 0\n",
        "  # convert input data to binary format using messageToBinary() fucntion\n",
        "  binary_secret_msg = messageToBinary(secret_message)\n",
        "\n",
        "  data_len = len(binary_secret_msg) #Find the length of data that needs to be hidden\n",
        "  for values in image:\n",
        "      for pixel in values:\n",
        "          # convert RGB values to binary format\n",
        "          r, g, b = messageToBinary(pixel)\n",
        "          # modify the least significant bit only if there is still data to store\n",
        "          if data_index < data_len:\n",
        "              # hide the data into least significant bit of red pixel\n",
        "              pixel[0] = int(r[:-1] + binary_secret_msg[data_index], 2)\n",
        "              data_index += 1\n",
        "          if data_index < data_len:\n",
        "              # hide the data into least significant bit of green pixel\n",
        "              pixel[1] = int(g[:-1] + binary_secret_msg[data_index], 2)\n",
        "              data_index += 1\n",
        "          if data_index < data_len:\n",
        "              # hide the data into least significant bit of  blue pixel\n",
        "              pixel[2] = int(b[:-1] + binary_secret_msg[data_index], 2)\n",
        "              data_index += 1\n",
        "          # if data is encoded, just break out of the loop\n",
        "          if data_index >= data_len:\n",
        "              break\n",
        "\n",
        "  return image"
      ],
      "metadata": {
        "id": "JnkQyqjF0xko"
      },
      "execution_count": 7,
      "outputs": []
    },
    {
      "cell_type": "code",
      "source": [
        "def encode_text(): \n",
        "  image_name = input(\"Enter image name(with extension): \") \n",
        "  image = cv2.imread(image_name) # Read the input image using OpenCV-Python.\n",
        "  #It is a library of Python bindings designed to solve computer vision problems. \n",
        "  \n",
        "  #details of the image\n",
        "  print(\"The shape of the image is: \",image.shape) #check the shape of image to calculate the number of bytes in it\n",
        "  print(\"The original image is as shown below: \")\n",
        "  resized_image = cv2.resize(image, (500, 500)) #resize the image as per your requirement\n",
        "  cv2_imshow(resized_image) #display the image\n",
        "  \n",
        "      \n",
        "  data = input(\"Enter data to be encoded : \") \n",
        "  if (len(data) == 0): \n",
        "    raise ValueError('Data is empty')\n",
        "  \n",
        "  filename = input(\"Enter the name of new encoded image(with extension): \")\n",
        "  encoded_image = hideData(image, data) # call the hideData function to hide the secret message into the selected image\n",
        "  cv2.imwrite(filename, encoded_image)\n",
        "\n",
        " "
      ],
      "metadata": {
        "id": "FK9xEAr71Lyy"
      },
      "execution_count": 8,
      "outputs": []
    },
    {
      "cell_type": "code",
      "source": [
        "def Steganography(): \n",
        "    a = input(\"Image Steganography \\n 1. Encode the data \\n 2. Decode the data \\n Your input is: \")\n",
        "    userinput = int(a)\n",
        "    if (userinput == 1):\n",
        "      print(\"\\nEncoding....\")\n",
        "      encode_text() \n",
        "          \n",
        "    # elif (userinput == 2):\n",
        "    #   print(\"\\nDecoding....\") \n",
        "    #   print(\"Decoded message is \" + decode_text()) \n",
        "    else: \n",
        "        raise Exception(\"Enter correct input\") \n",
        "          \n",
        "Steganography() #encode image"
      ],
      "metadata": {
        "colab": {
          "base_uri": "https://localhost:8080/",
          "height": 726
        },
        "id": "ktmLDxw01dpW",
        "outputId": "0e02f097-26f4-4fa0-eb95-42fe951adbe7"
      },
      "execution_count": 9,
      "outputs": [
        {
          "output_type": "stream",
          "name": "stdout",
          "text": [
            "Image Steganography \n",
            " 1. Encode the data \n",
            " 2. Decode the data \n",
            " Your input is: 1\n",
            "\n",
            "Encoding....\n",
            "Enter image name(with extension): opencv_frame.png\n",
            "The shape of the image is:  (720, 1280, 3)\n",
            "The original image is as shown below: \n"
          ]
        },
        {
          "output_type": "display_data",
          "data": {
            "image/png": "[encoded data removed]",
            "text/plain": [
              "<PIL.Image.Image image mode=RGB size=500x500 at 0x7FECE0D1FF10>"
            ]
          },
          "metadata": {}
        },
        {
          "output_type": "stream",
          "name": "stdout",
          "text": [
            "Enter data to be encoded : hiiii\n",
            "Enter the name of new encoded image(with extension): test.png\n",
            "Maximum bytes to encode: 345600\n"
          ]
        }
      ]
    }
  ]
}